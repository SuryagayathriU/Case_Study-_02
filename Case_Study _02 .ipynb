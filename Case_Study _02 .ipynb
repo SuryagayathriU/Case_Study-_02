{
 "cells": [
  {
   "cell_type": "markdown",
   "id": "1da16982",
   "metadata": {},
   "source": [
    "# Case Study on Measurement of Central Tendency and Dispersion"
   ]
  },
  {
   "cell_type": "code",
   "execution_count": 136,
   "id": "366aa032",
   "metadata": {},
   "outputs": [],
   "source": [
    "#importing important libraries\n",
    "import pandas as pd\n",
    "import numpy as np\n",
    "import matplotlib.pyplot as plt\n",
    "import seaborn as sns"
   ]
  },
  {
   "cell_type": "code",
   "execution_count": 137,
   "id": "620b8f47",
   "metadata": {},
   "outputs": [],
   "source": [
    "#Reading dataset to python environment\n",
    "data=pd.read_csv('StudentsPerformance.csv')"
   ]
  },
  {
   "cell_type": "code",
   "execution_count": 138,
   "id": "0623809f",
   "metadata": {},
   "outputs": [
    {
     "data": {
      "text/html": [
       "<div>\n",
       "<style scoped>\n",
       "    .dataframe tbody tr th:only-of-type {\n",
       "        vertical-align: middle;\n",
       "    }\n",
       "\n",
       "    .dataframe tbody tr th {\n",
       "        vertical-align: top;\n",
       "    }\n",
       "\n",
       "    .dataframe thead th {\n",
       "        text-align: right;\n",
       "    }\n",
       "</style>\n",
       "<table border=\"1\" class=\"dataframe\">\n",
       "  <thead>\n",
       "    <tr style=\"text-align: right;\">\n",
       "      <th></th>\n",
       "      <th>gender</th>\n",
       "      <th>race/ethnicity</th>\n",
       "      <th>parental level of education</th>\n",
       "      <th>lunch</th>\n",
       "      <th>test preparation course</th>\n",
       "      <th>math score</th>\n",
       "      <th>reading score</th>\n",
       "      <th>writing score</th>\n",
       "    </tr>\n",
       "  </thead>\n",
       "  <tbody>\n",
       "    <tr>\n",
       "      <th>0</th>\n",
       "      <td>female</td>\n",
       "      <td>group C</td>\n",
       "      <td>some high school</td>\n",
       "      <td>free/reduced</td>\n",
       "      <td>none</td>\n",
       "      <td>0</td>\n",
       "      <td>17</td>\n",
       "      <td>10</td>\n",
       "    </tr>\n",
       "    <tr>\n",
       "      <th>1</th>\n",
       "      <td>female</td>\n",
       "      <td>group B</td>\n",
       "      <td>high school</td>\n",
       "      <td>free/reduced</td>\n",
       "      <td>none</td>\n",
       "      <td>8</td>\n",
       "      <td>24</td>\n",
       "      <td>23</td>\n",
       "    </tr>\n",
       "    <tr>\n",
       "      <th>2</th>\n",
       "      <td>female</td>\n",
       "      <td>group B</td>\n",
       "      <td>some high school</td>\n",
       "      <td>free/reduced</td>\n",
       "      <td>none</td>\n",
       "      <td>18</td>\n",
       "      <td>32</td>\n",
       "      <td>28</td>\n",
       "    </tr>\n",
       "    <tr>\n",
       "      <th>3</th>\n",
       "      <td>female</td>\n",
       "      <td>group B</td>\n",
       "      <td>some college</td>\n",
       "      <td>standard</td>\n",
       "      <td>none</td>\n",
       "      <td>11</td>\n",
       "      <td>38</td>\n",
       "      <td>32</td>\n",
       "    </tr>\n",
       "    <tr>\n",
       "      <th>4</th>\n",
       "      <td>female</td>\n",
       "      <td>group C</td>\n",
       "      <td>some college</td>\n",
       "      <td>free/reduced</td>\n",
       "      <td>none</td>\n",
       "      <td>22</td>\n",
       "      <td>39</td>\n",
       "      <td>33</td>\n",
       "    </tr>\n",
       "  </tbody>\n",
       "</table>\n",
       "</div>"
      ],
      "text/plain": [
       "   gender race/ethnicity parental level of education         lunch  \\\n",
       "0  female        group C            some high school  free/reduced   \n",
       "1  female        group B                 high school  free/reduced   \n",
       "2  female        group B            some high school  free/reduced   \n",
       "3  female        group B                some college      standard   \n",
       "4  female        group C                some college  free/reduced   \n",
       "\n",
       "  test preparation course  math score  reading score  writing score  \n",
       "0                    none           0             17             10  \n",
       "1                    none           8             24             23  \n",
       "2                    none          18             32             28  \n",
       "3                    none          11             38             32  \n",
       "4                    none          22             39             33  "
      ]
     },
     "execution_count": 138,
     "metadata": {},
     "output_type": "execute_result"
    }
   ],
   "source": [
    "data.head()"
   ]
  },
  {
   "cell_type": "code",
   "execution_count": 162,
   "id": "95404fa9",
   "metadata": {},
   "outputs": [
    {
     "data": {
      "text/plain": [
       "gender                         0\n",
       "race/ethnicity                 0\n",
       "parental level of education    0\n",
       "lunch                          0\n",
       "test preparation course        0\n",
       "math score                     0\n",
       "reading score                  0\n",
       "writing score                  0\n",
       "dtype: int64"
      ]
     },
     "execution_count": 162,
     "metadata": {},
     "output_type": "execute_result"
    }
   ],
   "source": [
    "#Checking for null values\n",
    "data.isna().sum()"
   ]
  },
  {
   "cell_type": "markdown",
   "id": "8222229b",
   "metadata": {},
   "source": [
    "# 1. Find out how many males and females participated in the test."
   ]
  },
  {
   "cell_type": "code",
   "execution_count": 139,
   "id": "a4aa244b",
   "metadata": {},
   "outputs": [
    {
     "data": {
      "text/plain": [
       "gender\n",
       "female    518\n",
       "male      482\n",
       "Name: gender, dtype: int64"
      ]
     },
     "execution_count": 139,
     "metadata": {},
     "output_type": "execute_result"
    }
   ],
   "source": [
    "data.groupby('gender')['gender'].count()"
   ]
  },
  {
   "cell_type": "markdown",
   "id": "c129206a",
   "metadata": {},
   "source": [
    "Total number of Females participated in the test : 518\n",
    " And Total number of Males participated in the test : 482   "
   ]
  },
  {
   "cell_type": "markdown",
   "id": "7cbf08fb",
   "metadata": {},
   "source": [
    "# 2. What do you think about the students' parental level of education?"
   ]
  },
  {
   "cell_type": "code",
   "execution_count": 140,
   "id": "eccd4b85",
   "metadata": {},
   "outputs": [
    {
     "data": {
      "text/plain": [
       "0    some college\n",
       "dtype: object"
      ]
     },
     "execution_count": 140,
     "metadata": {},
     "output_type": "execute_result"
    }
   ],
   "source": [
    "data['parental level of education'].mode()"
   ]
  },
  {
   "cell_type": "markdown",
   "id": "08c604a6",
   "metadata": {},
   "source": [
    "The parental level of education for more number of students are 'some college'"
   ]
  },
  {
   "cell_type": "markdown",
   "id": "b4083e05",
   "metadata": {},
   "source": [
    "# 3. Who scores the most on average for math, reading and writing based on\n"
   ]
  },
  {
   "cell_type": "markdown",
   "id": "b98806db",
   "metadata": {},
   "source": [
    "### 1) Gender\n"
   ]
  },
  {
   "cell_type": "code",
   "execution_count": 141,
   "id": "2e0dcbb2",
   "metadata": {},
   "outputs": [
    {
     "data": {
      "text/plain": [
       "gender\n",
       "female    63.376448\n",
       "male      68.821577\n",
       "Name: math score, dtype: float64"
      ]
     },
     "execution_count": 141,
     "metadata": {},
     "output_type": "execute_result"
    }
   ],
   "source": [
    "df1=data.groupby('gender')['math score'].mean().sort_values()\n",
    "df1"
   ]
  },
  {
   "cell_type": "markdown",
   "id": "7122194e",
   "metadata": {},
   "source": [
    "Male students scores the most on average for math."
   ]
  },
  {
   "cell_type": "code",
   "execution_count": 142,
   "id": "8d30e6a1",
   "metadata": {},
   "outputs": [
    {
     "data": {
      "text/plain": [
       "gender\n",
       "male      65.545643\n",
       "female    72.590734\n",
       "Name: reading score, dtype: float64"
      ]
     },
     "execution_count": 142,
     "metadata": {},
     "output_type": "execute_result"
    }
   ],
   "source": [
    "df2=data.groupby('gender')['reading score'].mean().sort_values()\n",
    "df2"
   ]
  },
  {
   "cell_type": "markdown",
   "id": "be79b2b2",
   "metadata": {},
   "source": [
    "Females scores the most on average for reading"
   ]
  },
  {
   "cell_type": "code",
   "execution_count": 143,
   "id": "c29ce083",
   "metadata": {},
   "outputs": [
    {
     "data": {
      "text/plain": [
       "gender\n",
       "male      63.446058\n",
       "female    72.467181\n",
       "Name: writing score, dtype: float64"
      ]
     },
     "execution_count": 143,
     "metadata": {},
     "output_type": "execute_result"
    }
   ],
   "source": [
    "df3=data.groupby('gender')['writing score'].mean().sort_values()\n",
    "df3"
   ]
  },
  {
   "cell_type": "markdown",
   "id": "3465aebd",
   "metadata": {},
   "source": [
    "Females scores the most on average for writing"
   ]
  },
  {
   "cell_type": "markdown",
   "id": "37b47836",
   "metadata": {},
   "source": [
    "From the above result we can conclude that the female students scores more in reading and writing comparing to the male students. Male students scores more in math than the female students."
   ]
  },
  {
   "cell_type": "markdown",
   "id": "9a662253",
   "metadata": {},
   "source": [
    "### 2) Test preparation course"
   ]
  },
  {
   "cell_type": "code",
   "execution_count": 144,
   "id": "badd74b1",
   "metadata": {},
   "outputs": [
    {
     "data": {
      "text/plain": [
       "test preparation course\n",
       "none         63.78972\n",
       "completed    69.96648\n",
       "Name: math score, dtype: float64"
      ]
     },
     "execution_count": 144,
     "metadata": {},
     "output_type": "execute_result"
    }
   ],
   "source": [
    "d1=data.groupby('test preparation course')['math score'].mean().sort_values()\n",
    "d1"
   ]
  },
  {
   "cell_type": "markdown",
   "id": "be6f72df",
   "metadata": {},
   "source": [
    "The students who completed the Test preparation course scores more on average for math"
   ]
  },
  {
   "cell_type": "code",
   "execution_count": 145,
   "id": "bb384b77",
   "metadata": {
    "scrolled": true
   },
   "outputs": [
    {
     "data": {
      "text/plain": [
       "test preparation course\n",
       "none         66.417445\n",
       "completed    74.175978\n",
       "Name: reading score, dtype: float64"
      ]
     },
     "execution_count": 145,
     "metadata": {},
     "output_type": "execute_result"
    }
   ],
   "source": [
    "d2=data.groupby('test preparation course')['reading score'].mean().sort_values()\n",
    "d2"
   ]
  },
  {
   "cell_type": "markdown",
   "id": "a14f47a5",
   "metadata": {},
   "source": [
    "The students who completed the Test preparation course scores more on average for reading"
   ]
  },
  {
   "cell_type": "code",
   "execution_count": 146,
   "id": "c67b47bf",
   "metadata": {},
   "outputs": [
    {
     "data": {
      "text/plain": [
       "test preparation course\n",
       "none         64.457944\n",
       "completed    74.684358\n",
       "Name: writing score, dtype: float64"
      ]
     },
     "execution_count": 146,
     "metadata": {},
     "output_type": "execute_result"
    }
   ],
   "source": [
    "d3=data.groupby('test preparation course')['writing score'].mean().sort_values()\n",
    "d3"
   ]
  },
  {
   "cell_type": "markdown",
   "id": "bfc08bb7",
   "metadata": {},
   "source": [
    "The students who completed the Test preparation course scores more on average for writing"
   ]
  },
  {
   "cell_type": "markdown",
   "id": "68346f3b",
   "metadata": {},
   "source": [
    "From the above result we can conclude that the students who have completed the Test preparation course scores more in math, reading and writing comparing to the students those who haven't."
   ]
  },
  {
   "cell_type": "markdown",
   "id": "b5018435",
   "metadata": {},
   "source": [
    "# 4. What do you think about the scoring variation for math, reading and writing based on"
   ]
  },
  {
   "cell_type": "markdown",
   "id": "acb96413",
   "metadata": {},
   "source": [
    "### 1) Gender"
   ]
  },
  {
   "cell_type": "code",
   "execution_count": 147,
   "id": "433db218",
   "metadata": {},
   "outputs": [
    {
     "data": {
      "text/plain": [
       "gender\n",
       "male      211.889097\n",
       "female    256.958593\n",
       "Name: math score, dtype: float64"
      ]
     },
     "execution_count": 147,
     "metadata": {},
     "output_type": "execute_result"
    }
   ],
   "source": [
    "d_var1=data.groupby('gender')['math score'].var().sort_values()\n",
    "d_var1"
   ]
  },
  {
   "cell_type": "code",
   "execution_count": 148,
   "id": "16958029",
   "metadata": {},
   "outputs": [
    {
     "data": {
      "text/plain": [
       "gender\n",
       "male      200.211010\n",
       "female    207.677438\n",
       "Name: reading score, dtype: float64"
      ]
     },
     "execution_count": 148,
     "metadata": {},
     "output_type": "execute_result"
    }
   ],
   "source": [
    "d_var2=data.groupby('gender')['reading score'].var().sort_values()\n",
    "d_var2"
   ]
  },
  {
   "cell_type": "code",
   "execution_count": 149,
   "id": "cd349956",
   "metadata": {},
   "outputs": [
    {
     "data": {
      "text/plain": [
       "gender\n",
       "male      202.413924\n",
       "female    220.369327\n",
       "Name: writing score, dtype: float64"
      ]
     },
     "execution_count": 149,
     "metadata": {},
     "output_type": "execute_result"
    }
   ],
   "source": [
    "d_var3=data.groupby('gender')['writing score'].var().sort_values()\n",
    "d_var3"
   ]
  },
  {
   "cell_type": "markdown",
   "id": "dc435eed",
   "metadata": {},
   "source": [
    "Here male students have lesser variance."
   ]
  },
  {
   "cell_type": "markdown",
   "id": "0a7fff84",
   "metadata": {},
   "source": [
    "### 2)  Test preparation course"
   ]
  },
  {
   "cell_type": "code",
   "execution_count": 150,
   "id": "b0645501",
   "metadata": {
    "scrolled": false
   },
   "outputs": [
    {
     "data": {
      "text/plain": [
       "test preparation course\n",
       "completed    210.884027\n",
       "none         246.668662\n",
       "Name: math score, dtype: float64"
      ]
     },
     "execution_count": 150,
     "metadata": {},
     "output_type": "execute_result"
    }
   ],
   "source": [
    "d_var4=data.groupby('test preparation course')['math score'].var().sort_values()\n",
    "d_var4"
   ]
  },
  {
   "cell_type": "code",
   "execution_count": 151,
   "id": "7b967626",
   "metadata": {},
   "outputs": [
    {
     "data": {
      "text/plain": [
       "test preparation course\n",
       "completed    183.265864\n",
       "none         213.419851\n",
       "Name: reading score, dtype: float64"
      ]
     },
     "execution_count": 151,
     "metadata": {},
     "output_type": "execute_result"
    }
   ],
   "source": [
    "d_var5=data.groupby('test preparation course')['reading score'].var().sort_values()\n",
    "d_var5"
   ]
  },
  {
   "cell_type": "code",
   "execution_count": 152,
   "id": "353c90fd",
   "metadata": {},
   "outputs": [
    {
     "data": {
      "text/plain": [
       "test preparation course\n",
       "completed    175.202612\n",
       "none         226.251739\n",
       "Name: writing score, dtype: float64"
      ]
     },
     "execution_count": 152,
     "metadata": {},
     "output_type": "execute_result"
    }
   ],
   "source": [
    "d_var6=data.groupby('test preparation course')['writing score'].var().sort_values()\n",
    "d_var6"
   ]
  },
  {
   "cell_type": "markdown",
   "id": "50888fa3",
   "metadata": {},
   "source": [
    "A small variance indicates that the data points tend to be very close to the mean, and to each other. A high variance indicates that the data points are very spread out from the mean, and from one another. Here for the students completed the Test preparation course have lesser variance. That means they are closer to the mean value.  "
   ]
  },
  {
   "cell_type": "markdown",
   "id": "85641f3e",
   "metadata": {},
   "source": [
    "# 5. The management needs your help to give bonus points to the top 25% of students based on their maths score, so how will you help the management to achieve this.\n"
   ]
  },
  {
   "cell_type": "code",
   "execution_count": 153,
   "id": "8d5ae416",
   "metadata": {},
   "outputs": [
    {
     "data": {
      "text/plain": [
       "77.0"
      ]
     },
     "execution_count": 153,
     "metadata": {},
     "output_type": "execute_result"
    }
   ],
   "source": [
    "dq= data['math score'].quantile(q=0.75)\n",
    "dq"
   ]
  },
  {
   "cell_type": "code",
   "execution_count": 154,
   "id": "117fa518",
   "metadata": {},
   "outputs": [
    {
     "data": {
      "text/plain": [
       "0      False\n",
       "1      False\n",
       "2      False\n",
       "3      False\n",
       "4      False\n",
       "       ...  \n",
       "995     True\n",
       "996     True\n",
       "997     True\n",
       "998     True\n",
       "999     True\n",
       "Name: math score, Length: 1000, dtype: bool"
      ]
     },
     "execution_count": 154,
     "metadata": {},
     "output_type": "execute_result"
    }
   ],
   "source": [
    "data['math score'] >= 77"
   ]
  },
  {
   "cell_type": "code",
   "execution_count": 155,
   "id": "a5bb8ec9",
   "metadata": {},
   "outputs": [
    {
     "data": {
      "text/html": [
       "<div>\n",
       "<style scoped>\n",
       "    .dataframe tbody tr th:only-of-type {\n",
       "        vertical-align: middle;\n",
       "    }\n",
       "\n",
       "    .dataframe tbody tr th {\n",
       "        vertical-align: top;\n",
       "    }\n",
       "\n",
       "    .dataframe thead th {\n",
       "        text-align: right;\n",
       "    }\n",
       "</style>\n",
       "<table border=\"1\" class=\"dataframe\">\n",
       "  <thead>\n",
       "    <tr style=\"text-align: right;\">\n",
       "      <th></th>\n",
       "      <th>gender</th>\n",
       "      <th>race/ethnicity</th>\n",
       "      <th>parental level of education</th>\n",
       "      <th>lunch</th>\n",
       "      <th>test preparation course</th>\n",
       "      <th>math score</th>\n",
       "      <th>reading score</th>\n",
       "      <th>writing score</th>\n",
       "    </tr>\n",
       "  </thead>\n",
       "  <tbody>\n",
       "    <tr>\n",
       "      <th>999</th>\n",
       "      <td>male</td>\n",
       "      <td>group E</td>\n",
       "      <td>bachelor's degree</td>\n",
       "      <td>standard</td>\n",
       "      <td>completed</td>\n",
       "      <td>100</td>\n",
       "      <td>100</td>\n",
       "      <td>100</td>\n",
       "    </tr>\n",
       "    <tr>\n",
       "      <th>998</th>\n",
       "      <td>male</td>\n",
       "      <td>group E</td>\n",
       "      <td>associate's degree</td>\n",
       "      <td>free/reduced</td>\n",
       "      <td>completed</td>\n",
       "      <td>100</td>\n",
       "      <td>100</td>\n",
       "      <td>93</td>\n",
       "    </tr>\n",
       "    <tr>\n",
       "      <th>997</th>\n",
       "      <td>male</td>\n",
       "      <td>group D</td>\n",
       "      <td>some college</td>\n",
       "      <td>standard</td>\n",
       "      <td>completed</td>\n",
       "      <td>100</td>\n",
       "      <td>97</td>\n",
       "      <td>99</td>\n",
       "    </tr>\n",
       "    <tr>\n",
       "      <th>996</th>\n",
       "      <td>male</td>\n",
       "      <td>group A</td>\n",
       "      <td>some college</td>\n",
       "      <td>standard</td>\n",
       "      <td>completed</td>\n",
       "      <td>100</td>\n",
       "      <td>96</td>\n",
       "      <td>86</td>\n",
       "    </tr>\n",
       "    <tr>\n",
       "      <th>517</th>\n",
       "      <td>female</td>\n",
       "      <td>group E</td>\n",
       "      <td>associate's degree</td>\n",
       "      <td>standard</td>\n",
       "      <td>none</td>\n",
       "      <td>100</td>\n",
       "      <td>100</td>\n",
       "      <td>100</td>\n",
       "    </tr>\n",
       "    <tr>\n",
       "      <th>...</th>\n",
       "      <td>...</td>\n",
       "      <td>...</td>\n",
       "      <td>...</td>\n",
       "      <td>...</td>\n",
       "      <td>...</td>\n",
       "      <td>...</td>\n",
       "      <td>...</td>\n",
       "      <td>...</td>\n",
       "    </tr>\n",
       "    <tr>\n",
       "      <th>854</th>\n",
       "      <td>male</td>\n",
       "      <td>group D</td>\n",
       "      <td>some high school</td>\n",
       "      <td>standard</td>\n",
       "      <td>completed</td>\n",
       "      <td>77</td>\n",
       "      <td>68</td>\n",
       "      <td>69</td>\n",
       "    </tr>\n",
       "    <tr>\n",
       "      <th>855</th>\n",
       "      <td>male</td>\n",
       "      <td>group E</td>\n",
       "      <td>associate's degree</td>\n",
       "      <td>free/reduced</td>\n",
       "      <td>completed</td>\n",
       "      <td>77</td>\n",
       "      <td>69</td>\n",
       "      <td>68</td>\n",
       "    </tr>\n",
       "    <tr>\n",
       "      <th>856</th>\n",
       "      <td>male</td>\n",
       "      <td>group E</td>\n",
       "      <td>some high school</td>\n",
       "      <td>standard</td>\n",
       "      <td>completed</td>\n",
       "      <td>77</td>\n",
       "      <td>76</td>\n",
       "      <td>77</td>\n",
       "    </tr>\n",
       "    <tr>\n",
       "      <th>415</th>\n",
       "      <td>female</td>\n",
       "      <td>group B</td>\n",
       "      <td>master's degree</td>\n",
       "      <td>free/reduced</td>\n",
       "      <td>completed</td>\n",
       "      <td>77</td>\n",
       "      <td>97</td>\n",
       "      <td>94</td>\n",
       "    </tr>\n",
       "    <tr>\n",
       "      <th>414</th>\n",
       "      <td>female</td>\n",
       "      <td>group A</td>\n",
       "      <td>high school</td>\n",
       "      <td>free/reduced</td>\n",
       "      <td>completed</td>\n",
       "      <td>77</td>\n",
       "      <td>88</td>\n",
       "      <td>85</td>\n",
       "    </tr>\n",
       "  </tbody>\n",
       "</table>\n",
       "<p>255 rows × 8 columns</p>\n",
       "</div>"
      ],
      "text/plain": [
       "     gender race/ethnicity parental level of education         lunch  \\\n",
       "999    male        group E           bachelor's degree      standard   \n",
       "998    male        group E          associate's degree  free/reduced   \n",
       "997    male        group D                some college      standard   \n",
       "996    male        group A                some college      standard   \n",
       "517  female        group E          associate's degree      standard   \n",
       "..      ...            ...                         ...           ...   \n",
       "854    male        group D            some high school      standard   \n",
       "855    male        group E          associate's degree  free/reduced   \n",
       "856    male        group E            some high school      standard   \n",
       "415  female        group B             master's degree  free/reduced   \n",
       "414  female        group A                 high school  free/reduced   \n",
       "\n",
       "    test preparation course  math score  reading score  writing score  \n",
       "999               completed         100            100            100  \n",
       "998               completed         100            100             93  \n",
       "997               completed         100             97             99  \n",
       "996               completed         100             96             86  \n",
       "517                    none         100            100            100  \n",
       "..                      ...         ...            ...            ...  \n",
       "854               completed          77             68             69  \n",
       "855               completed          77             69             68  \n",
       "856               completed          77             76             77  \n",
       "415               completed          77             97             94  \n",
       "414               completed          77             88             85  \n",
       "\n",
       "[255 rows x 8 columns]"
      ]
     },
     "execution_count": 155,
     "metadata": {},
     "output_type": "execute_result"
    }
   ],
   "source": [
    "data_math=data[data['math score'].ge(dq)].sort_values(by='math score', ascending=False)\n",
    "data_math"
   ]
  },
  {
   "cell_type": "code",
   "execution_count": 157,
   "id": "332f7bb3",
   "metadata": {},
   "outputs": [
    {
     "data": {
      "text/plain": [
       "(255, 8)"
      ]
     },
     "execution_count": 157,
     "metadata": {},
     "output_type": "execute_result"
    }
   ],
   "source": [
    "data_math.shape"
   ]
  },
  {
   "cell_type": "markdown",
   "id": "213df956",
   "metadata": {},
   "source": [
    "From the above result, we can find out that the top 25% includes 255 students who are eligible for the bonus points."
   ]
  }
 ],
 "metadata": {
  "kernelspec": {
   "display_name": "Python 3",
   "language": "python",
   "name": "python3"
  },
  "language_info": {
   "codemirror_mode": {
    "name": "ipython",
    "version": 3
   },
   "file_extension": ".py",
   "mimetype": "text/x-python",
   "name": "python",
   "nbconvert_exporter": "python",
   "pygments_lexer": "ipython3",
   "version": "3.8.8"
  }
 },
 "nbformat": 4,
 "nbformat_minor": 5
}
